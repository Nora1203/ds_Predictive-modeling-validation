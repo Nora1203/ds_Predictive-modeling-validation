{
 "cells": [
  {
   "cell_type": "markdown",
   "id": "ed4467ae-1bf0-48c7-aa79-8249f491a910",
   "metadata": {},
   "source": [
    "## 1 Prepare data"
   ]
  },
  {
   "cell_type": "code",
   "execution_count": 201,
   "id": "5989a85d-4e0f-4433-8543-7f85c321664d",
   "metadata": {},
   "outputs": [
    {
     "data": {
      "text/html": [
       "<div>\n",
       "<style scoped>\n",
       "    .dataframe tbody tr th:only-of-type {\n",
       "        vertical-align: middle;\n",
       "    }\n",
       "\n",
       "    .dataframe tbody tr th {\n",
       "        vertical-align: top;\n",
       "    }\n",
       "\n",
       "    .dataframe thead th {\n",
       "        text-align: right;\n",
       "    }\n",
       "</style>\n",
       "<table border=\"1\" class=\"dataframe\">\n",
       "  <thead>\n",
       "    <tr style=\"text-align: right;\">\n",
       "      <th></th>\n",
       "      <th>age</th>\n",
       "      <th>sex</th>\n",
       "      <th>cp</th>\n",
       "      <th>trtbps</th>\n",
       "      <th>chol</th>\n",
       "      <th>fbs</th>\n",
       "      <th>restecg</th>\n",
       "      <th>thalachh</th>\n",
       "      <th>exng</th>\n",
       "      <th>caa</th>\n",
       "      <th>output</th>\n",
       "    </tr>\n",
       "  </thead>\n",
       "  <tbody>\n",
       "    <tr>\n",
       "      <th>0</th>\n",
       "      <td>63</td>\n",
       "      <td>1</td>\n",
       "      <td>3</td>\n",
       "      <td>145</td>\n",
       "      <td>233</td>\n",
       "      <td>1</td>\n",
       "      <td>0</td>\n",
       "      <td>150</td>\n",
       "      <td>0</td>\n",
       "      <td>0</td>\n",
       "      <td>1</td>\n",
       "    </tr>\n",
       "    <tr>\n",
       "      <th>1</th>\n",
       "      <td>37</td>\n",
       "      <td>1</td>\n",
       "      <td>2</td>\n",
       "      <td>130</td>\n",
       "      <td>250</td>\n",
       "      <td>0</td>\n",
       "      <td>1</td>\n",
       "      <td>187</td>\n",
       "      <td>0</td>\n",
       "      <td>0</td>\n",
       "      <td>1</td>\n",
       "    </tr>\n",
       "    <tr>\n",
       "      <th>2</th>\n",
       "      <td>41</td>\n",
       "      <td>0</td>\n",
       "      <td>1</td>\n",
       "      <td>130</td>\n",
       "      <td>204</td>\n",
       "      <td>0</td>\n",
       "      <td>0</td>\n",
       "      <td>172</td>\n",
       "      <td>0</td>\n",
       "      <td>0</td>\n",
       "      <td>1</td>\n",
       "    </tr>\n",
       "    <tr>\n",
       "      <th>3</th>\n",
       "      <td>56</td>\n",
       "      <td>1</td>\n",
       "      <td>1</td>\n",
       "      <td>120</td>\n",
       "      <td>236</td>\n",
       "      <td>0</td>\n",
       "      <td>1</td>\n",
       "      <td>178</td>\n",
       "      <td>0</td>\n",
       "      <td>0</td>\n",
       "      <td>1</td>\n",
       "    </tr>\n",
       "    <tr>\n",
       "      <th>4</th>\n",
       "      <td>57</td>\n",
       "      <td>0</td>\n",
       "      <td>0</td>\n",
       "      <td>120</td>\n",
       "      <td>354</td>\n",
       "      <td>0</td>\n",
       "      <td>1</td>\n",
       "      <td>163</td>\n",
       "      <td>1</td>\n",
       "      <td>0</td>\n",
       "      <td>1</td>\n",
       "    </tr>\n",
       "  </tbody>\n",
       "</table>\n",
       "</div>"
      ],
      "text/plain": [
       "   age  sex  cp  trtbps  chol  fbs  restecg  thalachh  exng  caa  output\n",
       "0   63    1   3     145   233    1        0       150     0    0       1\n",
       "1   37    1   2     130   250    0        1       187     0    0       1\n",
       "2   41    0   1     130   204    0        0       172     0    0       1\n",
       "3   56    1   1     120   236    0        1       178     0    0       1\n",
       "4   57    0   0     120   354    0        1       163     1    0       1"
      ]
     },
     "execution_count": 201,
     "metadata": {},
     "output_type": "execute_result"
    }
   ],
   "source": [
    "# 1\n",
    "import pandas as pd\n",
    "import numpy as np\n",
    "import matplotlib.pyplot as plt\n",
    "\n",
    "heart = pd.read_csv(\"data/heart.csv.bz2\")\n",
    "heart = heart.drop(['slp','oldpeak','thall'], axis=1)\n",
    "heart.head()"
   ]
  },
  {
   "cell_type": "code",
   "execution_count": 202,
   "id": "9b6841f2-9509-4cc2-ba73-54ec1fa6c839",
   "metadata": {},
   "outputs": [
    {
     "data": {
      "text/plain": [
       "(303, 11)"
      ]
     },
     "execution_count": 202,
     "metadata": {},
     "output_type": "execute_result"
    }
   ],
   "source": [
    "heart.shape"
   ]
  },
  {
   "cell_type": "code",
   "execution_count": 203,
   "id": "678cc924-7f75-484a-b0ac-ed917a0f8512",
   "metadata": {},
   "outputs": [
    {
     "data": {
      "text/plain": [
       "age         0\n",
       "sex         0\n",
       "cp          0\n",
       "trtbps      0\n",
       "chol        0\n",
       "fbs         0\n",
       "restecg     0\n",
       "thalachh    0\n",
       "exng        0\n",
       "caa         0\n",
       "output      0\n",
       "dtype: int64"
      ]
     },
     "execution_count": 203,
     "metadata": {},
     "output_type": "execute_result"
    }
   ],
   "source": [
    "# 2\n",
    "heart.isnull().sum()"
   ]
  },
  {
   "cell_type": "markdown",
   "id": "1bca5512-b792-49df-b3b6-e96944cdcb1d",
   "metadata": {},
   "source": [
    "there are no missing value"
   ]
  },
  {
   "cell_type": "code",
   "execution_count": 204,
   "id": "096e2ba5-ee43-4a57-bc36-65778fc3498a",
   "metadata": {},
   "outputs": [
    {
     "data": {
      "text/plain": [
       "age         int64\n",
       "sex         int64\n",
       "cp          int64\n",
       "trtbps      int64\n",
       "chol        int64\n",
       "fbs         int64\n",
       "restecg     int64\n",
       "thalachh    int64\n",
       "exng        int64\n",
       "caa         int64\n",
       "output      int64\n",
       "dtype: object"
      ]
     },
     "execution_count": 204,
     "metadata": {},
     "output_type": "execute_result"
    }
   ],
   "source": [
    "heart.dtypes"
   ]
  },
  {
   "cell_type": "markdown",
   "id": "7bd9c94e-e6ba-44a0-9a1d-ffa82176bda6",
   "metadata": {},
   "source": [
    "the data type of all the variables are int64 (numerical)"
   ]
  },
  {
   "cell_type": "code",
   "execution_count": 205,
   "id": "1d6edf2d-9191-434c-8cf0-3c6d5bdfed22",
   "metadata": {},
   "outputs": [
    {
     "name": "stdout",
     "output_type": "stream",
     "text": [
      "The range of age is: 29 - 77\n",
      "The range of trtbps is: 94 - 200\n",
      "The range of chol is: 126 - 564\n",
      "The range of thalachh is: 71 - 202\n",
      "The possible values of sex are:  [1 0]\n",
      "The possible values of cp are:  [3 2 1 0]\n",
      "The possible values of fbs are:  [1 0]\n",
      "The possible values of restecg are:  [0 1 2]\n",
      "The possible values of exng are:  [0 1]\n",
      "The possible values of caa are:  [0 2 1 3 4]\n",
      "The possible values of output are:  [1 0]\n"
     ]
    }
   ],
   "source": [
    "numerical = [\"age\", \"trtbps\", \"chol\", \"thalachh\"]\n",
    "for i in numerical:\n",
    "    print(\"The range of \" + i + \" is: \" + str(np.min(heart[i])) + \" - \" + str(np.max(heart[i])))\n",
    "\n",
    "categorical =  [\"sex\", \"cp\", \"fbs\", \"restecg\", \"exng\", \"caa\", \"output\"]\n",
    "for i in categorical:\n",
    "    print(\"The possible values of \" + i + \" are: \", heart[i].unique())"
   ]
  },
  {
   "cell_type": "code",
   "execution_count": 206,
   "id": "ac18400c-7a6c-4fa2-b32d-417e6c1a5da7",
   "metadata": {},
   "outputs": [
    {
     "data": {
      "text/plain": [
       "0.5445544554455446"
      ]
     },
     "execution_count": 206,
     "metadata": {},
     "output_type": "execute_result"
    }
   ],
   "source": [
    "np.mean(heart.output)"
   ]
  },
  {
   "cell_type": "markdown",
   "id": "66683f6f-b731-408f-b13c-b49abab3d53d",
   "metadata": {},
   "source": [
    "the percentage of heart attack among these patients is 54.46%"
   ]
  },
  {
   "cell_type": "markdown",
   "id": "8bc3d251-d634-4fd0-ab20-2f877926b50c",
   "metadata": {},
   "source": [
    "Q3\n",
    "\n",
    "the variables 'sex', 'cp', 'fbs', 'restecg', 'exng', and 'output' are inherently non-numeric and can be considered as categorical variables.\n",
    "\n",
    "The variables that is nominal: sex, fbs, exng, output.\n",
    "\n",
    "The variables that is ordinal: cp, restecg, caa."
   ]
  },
  {
   "cell_type": "code",
   "execution_count": 207,
   "id": "a62d63d4-0176-4f42-8b22-0339324b481b",
   "metadata": {},
   "outputs": [
    {
     "data": {
      "text/plain": [
       "16"
      ]
     },
     "execution_count": 207,
     "metadata": {},
     "output_type": "execute_result"
    }
   ],
   "source": [
    "# 4\n",
    "X = heart.drop(\"output\", axis=1)\n",
    "y = heart.output\n",
    "X = pd.get_dummies(X, columns = [\"sex\", \"cp\", \"fbs\", \"restecg\", \"exng\", \"caa\"], drop_first=True)\n",
    "X.shape[1]"
   ]
  },
  {
   "cell_type": "markdown",
   "id": "8b2452c0-ceb8-4f66-8d81-5c7650ec5a07",
   "metadata": {},
   "source": [
    "I get 16 columns"
   ]
  },
  {
   "cell_type": "code",
   "execution_count": 208,
   "id": "4b9acf5f-7ca5-4c20-a940-2ef8e3e92ff4",
   "metadata": {},
   "outputs": [
    {
     "data": {
      "text/plain": [
       "((242, 16), (61, 16))"
      ]
     },
     "execution_count": 208,
     "metadata": {},
     "output_type": "execute_result"
    }
   ],
   "source": [
    "# 5\n",
    "from sklearn.model_selection import train_test_split \n",
    "from sklearn.linear_model import LogisticRegression \n",
    "from sklearn.metrics import confusion_matrix\n",
    "\n",
    "Xw, X_test, yw, y_test = train_test_split(X, y, test_size = 0.2)\n",
    "Xw.shape, X_test.shape"
   ]
  },
  {
   "cell_type": "code",
   "execution_count": 209,
   "id": "c0ed1d05-330f-4f38-b249-49d8728a06a1",
   "metadata": {},
   "outputs": [],
   "source": [
    "# 6\n",
    "test_data = pd.concat([X_test, y_test], axis=1)\n",
    "test_data.to_csv(\"test_data.csv\", index=False)"
   ]
  },
  {
   "cell_type": "code",
   "execution_count": 210,
   "id": "5a92df90-0c73-4232-b7f8-a28f294a91fb",
   "metadata": {},
   "outputs": [],
   "source": [
    "del heart, X, y, y_test, X_test, test_data"
   ]
  },
  {
   "cell_type": "code",
   "execution_count": 211,
   "id": "83cebbbd-2e48-4c0a-b262-bd0980174d7e",
   "metadata": {},
   "outputs": [
    {
     "data": {
      "text/plain": [
       "((193, 16), (49, 16))"
      ]
     },
     "execution_count": 211,
     "metadata": {},
     "output_type": "execute_result"
    }
   ],
   "source": [
    "Xt, Xv, yt, yv = train_test_split(Xw, yw, test_size = 0.2)\n",
    "Xt.shape, Xv.shape"
   ]
  },
  {
   "cell_type": "markdown",
   "id": "a3f405a9-9750-4dac-851c-eaa08dbf2e26",
   "metadata": {},
   "source": [
    "## 2 Logistic regression"
   ]
  },
  {
   "cell_type": "markdown",
   "id": "0339eec5-4780-4cb5-aebc-c9b094f17677",
   "metadata": {},
   "source": [
    "Q1\n",
    "\n",
    "In the context of medicine and working with a logistic regression model, such as predicting a disease or identifying high-risk patients, the measure of recall would be most relevant.\n",
    "\n",
    "Recall, also known as sensitivity or true positive rate, measures the ability of the model to correctly identify positive cases from the actual positive instances. In medical applications, it is crucial to prioritize the identification of true positive cases, ensuring that potential cases are not missed or overlooked. For example, in the case of predicting a disease, recall measures the proportion of actual positive cases that are correctly identified as positive by the model. High recall indicates a low rate of false negatives, meaning fewer cases are missed.\n",
    "\n",
    "In medical scenarios, it is generally more acceptable to have false positives (cases predicted positive but are actually negative) than false negatives (cases predicted negative but are actually positive). False negatives can have significant consequences, such as delayed treatment or missed opportunities for intervention, which can be more detrimental in a medical context.\n",
    "\n",
    "While precision and accuracy are also important measures, recall takes precedence in medical applications where identifying positive cases accurately is critical. However, it is advisable to consider other measures such as precision, accuracy, and the F1-score (which combines precision and recall) alongside recall to have a comprehensive evaluation of the model's performance."
   ]
  },
  {
   "cell_type": "code",
   "execution_count": 212,
   "id": "4483cbb9-7b8b-4c6b-a087-1006ad4cd069",
   "metadata": {},
   "outputs": [
    {
     "data": {
      "text/plain": [
       "1    130\n",
       "0    112\n",
       "Name: output, dtype: int64"
      ]
     },
     "execution_count": 212,
     "metadata": {},
     "output_type": "execute_result"
    }
   ],
   "source": [
    "# 2\n",
    "yw.value_counts()"
   ]
  },
  {
   "cell_type": "markdown",
   "id": "96dbe71f-01c1-4662-8d3b-f364a0549a6d",
   "metadata": {},
   "source": [
    "In the work data, the majority is patients with heart attack.\n",
    "\n",
    "Since we are computing the naive model which predicts everyone the same\n",
    "result based on the majority category (with heart attack), the no heart attack side should be 0."
   ]
  },
  {
   "cell_type": "markdown",
   "id": "3979ce73-fa7a-48e8-9cdd-fe250ec76fb7",
   "metadata": {},
   "source": [
    "| | **Naive Model Predicted** | |\n",
    "| -------- | ------------: | ------:|\n",
    "| | Attack | No Attack |\n",
    "|**Actual**| 124 | 0 |\n",
    "| | 36 | 0 |"
   ]
  },
  {
   "cell_type": "markdown",
   "id": "4cc057cf-4df1-434d-8126-76c700bdc670",
   "metadata": {},
   "source": [
    "Accuracy = (TP + TN) / T = (124 + 0) / 160 = 0.775\n",
    "\n",
    "Precision = TP / (TP + FP) = 124 / (124 + 36) = 0.775\n",
    "\n",
    "Recall = TP / (TP + FN) = 124 / (124 + 0) = 1"
   ]
  },
  {
   "cell_type": "markdown",
   "id": "5e5e2ce4-3f52-47e0-8a4a-dba3812f1f53",
   "metadata": {},
   "source": [
    "The confusion matrix shows that the model correctly predicts all instances of the majority class (heart attack) as heart attack (True Negatives = 0) and incorrectly predicts all instances of the minority class (no heart attack) as heart attack (False Negatives = 36). It does not make any correct predictions for the minority class (True Positives = 0). Consequently, the accuracy of the model is 0.775, indicating that it correctly classifies the majority class but fails to classify any instances of the minority class. The precision of 0.775 indicates that out of all the instances predicted as having a heart attack, 77.5% are true positives. The recall of 1 indicates that all instances of the majority class (heart attack) are correctly identified as such."
   ]
  },
  {
   "cell_type": "code",
   "execution_count": 213,
   "id": "e41b3eb9-8464-46e0-8a66-bedd9dd5351e",
   "metadata": {},
   "outputs": [],
   "source": [
    "# 3\n",
    "m_log = LogisticRegression(max_iter=1000)\n",
    "_ = m_log.fit(Xt, yt)"
   ]
  },
  {
   "cell_type": "code",
   "execution_count": 214,
   "id": "23d6f990-297c-4536-b238-2ad295f9d907",
   "metadata": {},
   "outputs": [
    {
     "data": {
      "text/plain": [
       "array([1, 1, 0, 0, 0, 0, 0, 0, 1, 0])"
      ]
     },
     "execution_count": 214,
     "metadata": {},
     "output_type": "execute_result"
    }
   ],
   "source": [
    "# 4\n",
    "yhat = m_log.predict(Xv)\n",
    "yhat[:10]"
   ]
  },
  {
   "cell_type": "markdown",
   "id": "f72d3cc8-4f45-48ef-beb1-c7f2cf11fa12",
   "metadata": {},
   "source": [
    "the prediction for the first 10 individuals indicates that the third, forth, fifth, and sixth, seventh, eighth, and tenth individuals are predicted as no heart attack, while the first, second, and nineth individuals are predicted as heart attack."
   ]
  },
  {
   "cell_type": "code",
   "execution_count": 215,
   "id": "18dbf62a-599a-431d-9c98-26b2cbf755cf",
   "metadata": {},
   "outputs": [
    {
     "data": {
      "text/plain": [
       "array([[18,  6],\n",
       "       [ 4, 21]])"
      ]
     },
     "execution_count": 215,
     "metadata": {},
     "output_type": "execute_result"
    }
   ],
   "source": [
    "# 5\n",
    "cm = confusion_matrix(yv, yhat)\n",
    "cm "
   ]
  },
  {
   "cell_type": "code",
   "execution_count": 216,
   "id": "8721d76a-bfb6-4944-81bc-a37e22e6ad24",
   "metadata": {},
   "outputs": [
    {
     "data": {
      "text/plain": [
       "(0.7959183673469388, 0.84)"
      ]
     },
     "execution_count": 216,
     "metadata": {},
     "output_type": "execute_result"
    }
   ],
   "source": [
    "# 6\n",
    "from sklearn.metrics import accuracy_score\n",
    "from sklearn.metrics import recall_score\n",
    "\n",
    "accuracy_score(yv, yhat), recall_score(yv, yhat)"
   ]
  },
  {
   "cell_type": "markdown",
   "id": "3233fff0-c0b0-4e6a-8f18-e51d27dff439",
   "metadata": {},
   "source": [
    "The measure I suggested in question 1 is recall. \n",
    "\n",
    "Comparing the results:\n",
    "\n",
    "Accuracy: The logistic regression model achieved an accuracy of 0.796, which is higher than the accuracy of the naive model (0.775). This indicates that the logistic regression model performs better in terms of overall correct predictions.\n",
    "\n",
    "Recall: The logistic regression model achieved a recall of 0.84, while the naive model had a recall of 1.0. This means that the logistic regression model identifies a slightly lower proportion of true positive instances (heart attacks) compared to the naive model.\n",
    "\n",
    "The logistic regression model provides a more nuanced prediction by correctly classifying both the majority and minority classes to some extent, whereas the naive model solely relies on the majority class."
   ]
  },
  {
   "cell_type": "markdown",
   "id": "fb5ec4b0-ad27-4ed5-b948-9be990ee9f22",
   "metadata": {},
   "source": [
    "## 3.1 Nearest Neighbor"
   ]
  },
  {
   "cell_type": "code",
   "execution_count": 217,
   "id": "50bf5a78-5895-41a7-b163-9791ffc4cb01",
   "metadata": {},
   "outputs": [],
   "source": [
    "# 1\n",
    "from sklearn.neighbors import KNeighborsClassifier\n",
    "\n",
    "t_accuracy = []\n",
    "t_recall = []\n",
    "\n",
    "v_accuracy = []\n",
    "v_recall = []\n",
    "\n",
    "for k in range(1, Xt.shape[0] + 1):\n",
    "    # Create an instance of the KNN model with the current k value\n",
    "    m = KNeighborsClassifier(n_neighbors=k)\n",
    "    # Train the model on training data\n",
    "    m.fit(Xt, yt)\n",
    "    # Make predictions on training data\n",
    "    yt_pred = m.predict(Xt)\n",
    "    # Calculate the performance metrics on the training data and store\n",
    "    t_acc = accuracy_score(yt, yt_pred)\n",
    "    t_accuracy.append(t_acc)\n",
    "    t_re = recall_score(yt, yt_pred)\n",
    "    t_recall.append(t_re)\n",
    "    # Make predictions on the validation data\n",
    "    yv_pred = m.predict(Xv)\n",
    "    # Calculate the performance metrics on the validation data and store\n",
    "    v_acc = accuracy_score(yv, yv_pred)\n",
    "    v_re = recall_score(yv, yv_pred)\n",
    "    v_accuracy.append(v_acc)\n",
    "    v_recall.append(v_re)\n",
    "    "
   ]
  },
  {
   "cell_type": "code",
   "execution_count": 218,
   "id": "60c0134c-3aed-41dd-9df2-bd4039669aa9",
   "metadata": {},
   "outputs": [
    {
     "data": {
      "image/png": "[encoded data removed]",
      "text/plain": [
       "<Figure size 432x288 with 1 Axes>"
      ]
     },
     "metadata": {
      "needs_background": "light"
     },
     "output_type": "display_data"
    }
   ],
   "source": [
    "# 2\n",
    "k_values = range(1, Xt.shape[0] + 1)\n",
    "_ = plt.plot(k_values, t_accuracy, label = \"Training Accuracy\")\n",
    "_ = plt.plot(k_values, v_accuracy, label = \"Validation Accuracy\")\n",
    "_ = plt.title(\"KNN & Accuracy Trend\")\n",
    "_ = plt.xlabel(\"Number of Neighbors (k)\")\n",
    "_ = plt.ylabel(\"Accuracy\")\n",
    "_ = plt.legend()"
   ]
  },
  {
   "cell_type": "code",
   "execution_count": 219,
   "id": "948e2db6-e0c0-426c-9c9e-5e420bae53a4",
   "metadata": {},
   "outputs": [
    {
     "data": {
      "image/png": "[encoded data removed]",
      "text/plain": [
       "<Figure size 432x288 with 1 Axes>"
      ]
     },
     "metadata": {
      "needs_background": "light"
     },
     "output_type": "display_data"
    }
   ],
   "source": [
    "_ = plt.plot(k_values, t_recall, label = \"Training Recall\")\n",
    "_ = plt.plot(k_values, v_recall, label = \"Validation Recall\")\n",
    "_ = plt.title(\"KNN & Recall Trend\")\n",
    "_ = plt.xlabel(\"Number of Neighbors (k)\")\n",
    "_ = plt.ylabel(\"Recall\")\n",
    "_ = plt.legend()"
   ]
  },
  {
   "cell_type": "code",
   "execution_count": 220,
   "id": "da03d652-f9c5-48ee-8e6e-9dffd6aaa6ae",
   "metadata": {},
   "outputs": [
    {
     "data": {
      "text/plain": [
       "(77, 0.6938775510204082)"
      ]
     },
     "execution_count": 220,
     "metadata": {},
     "output_type": "execute_result"
    }
   ],
   "source": [
    "# 3\n",
    "best_acc = max(v_accuracy)\n",
    "best_rec = max(v_recall)\n",
    "best_k_acc = k_values[v_accuracy.index(best_acc)]\n",
    "best_k_rec = k_values[v_recall.index(best_rec)]\n",
    "\n",
    "best_k_acc, best_acc"
   ]
  },
  {
   "cell_type": "code",
   "execution_count": 221,
   "id": "c8a25422-59bf-4b03-b88b-77b4b9ea5ab6",
   "metadata": {},
   "outputs": [
    {
     "data": {
      "text/plain": [
       "(141, 1.0)"
      ]
     },
     "execution_count": 221,
     "metadata": {},
     "output_type": "execute_result"
    }
   ],
   "source": [
    "best_k_rec, best_rec"
   ]
  },
  {
   "cell_type": "markdown",
   "id": "12cb5ac9-bc46-4810-90b1-cf960a12e769",
   "metadata": {},
   "source": [
    "The k value of 77 gives the best accuracy with the value of 0.694.\\\n",
    "All k values above 141 gives the best recall with the value of 1.0\n",
    "\n",
    "KNN Model:\n",
    "\n",
    "Accuracy: 0.694\n",
    "Recall: 1.0\n",
    "\n",
    "Naive Model:\n",
    "\n",
    "Accuracy: 0.775\n",
    "Recall: 1.0\n",
    "\n",
    "Logistic Regression Model:\n",
    "\n",
    "Accuracy: 0.796\n",
    "Recall: 0.84\n",
    "\n",
    "Comparing with the naive model, accuracy is slightly lower for the KNN model, but the recall is the same. However, when compared to the logistic regression model, the KNN model has a lower accuracy and a higher recall."
   ]
  },
  {
   "cell_type": "markdown",
   "id": "9c68d26a-8ff7-4b00-a545-d21c4e42642f",
   "metadata": {},
   "source": [
    "Q4\n",
    "\n",
    "When the value of k is very small (k=1 in both accuaracy and recall graph), the model is overfitting, the gap is huge between training and recall in both accuaracy and recall. Because the model becomes overly sensitive to individual data points in the training set. They overly rely on the nearest neighbors, which can lead to capturing noise or individual data point characteristics in the training set.\n",
    "\n",
    "On the other hand, as the value of k approaches the total number of training data points and the trend line become to flatten out (k values above 155 in accuacy graph and k = 141 in recall graph), the model starts to underfit. This is because the model becomes less sensitive to individual data points. It relies more on a majority vote of the neighbors, resulting in a simpler model. This simplicity can lead to underfitting, where the model fails to capture the underlying patterns and complexities of the data. "
   ]
  },
  {
   "cell_type": "markdown",
   "id": "907d2ce4-b5d7-41de-93c4-6e5f07a2d26f",
   "metadata": {},
   "source": [
    "## 3.2 Decision trees"
   ]
  },
  {
   "cell_type": "code",
   "execution_count": 222,
   "id": "ed4daaf1-534c-4c3f-8d7c-cac0c6feccc1",
   "metadata": {},
   "outputs": [],
   "source": [
    "# 1\n",
    "from sklearn.tree import DecisionTreeClassifier\n",
    "\n",
    "depth_values = range(1, 11)\n",
    "tree_t_accuracy = []\n",
    "tree_t_recall = []\n",
    "\n",
    "tree_v_accuracy = []\n",
    "tree_v_recall = []\n",
    "\n",
    "for depth in depth_values:\n",
    "    # Create an instance of the Decision Tree model with the current max depth value\n",
    "    m = DecisionTreeClassifier(max_depth=depth)\n",
    "    # Train the model on training data\n",
    "    m.fit(Xt, yt)\n",
    "    # Make predictions on training data\n",
    "    yt_pred = m.predict(Xt)\n",
    "    # Calculate the performance metrics on the training data and store\n",
    "    t_acc = accuracy_score(yt, yt_pred)\n",
    "    tree_t_accuracy.append(t_acc)\n",
    "    t_re = recall_score(yt, yt_pred)\n",
    "    tree_t_recall.append(t_re)\n",
    "    # Make predictions on the validation data\n",
    "    yv_pred = m.predict(Xv)\n",
    "    # Calculate the performance metrics on the validation data and store\n",
    "    v_acc = accuracy_score(yv, yv_pred)\n",
    "    v_re = recall_score(yv, yv_pred)\n",
    "    tree_v_accuracy.append(v_acc)\n",
    "    tree_v_recall.append(v_re)"
   ]
  },
  {
   "cell_type": "code",
   "execution_count": 223,
   "id": "e5f20c60-299b-4738-b7b2-96da38c8acd5",
   "metadata": {},
   "outputs": [
    {
     "data": {
      "image/png": "[encoded data removed]",
      "text/plain": [
       "<Figure size 432x288 with 1 Axes>"
      ]
     },
     "metadata": {
      "needs_background": "light"
     },
     "output_type": "display_data"
    }
   ],
   "source": [
    "# 2\n",
    "_ = plt.plot(depth_values, tree_t_accuracy, label = \"Training Accuracy\")\n",
    "_ = plt.plot(depth_values, tree_v_accuracy, label = \"Validation Accuracy\")\n",
    "_ = plt.title(\"Depth & Accuracy Trend\")\n",
    "_ = plt.xlabel(\"Depth\")\n",
    "_ = plt.ylabel(\"Accuracy\")\n",
    "_ = plt.legend()"
   ]
  },
  {
   "cell_type": "code",
   "execution_count": 224,
   "id": "101db850-17e9-430b-993a-816193c0f389",
   "metadata": {},
   "outputs": [
    {
     "data": {
      "image/png": "[encoded data removed]",
      "text/plain": [
       "<Figure size 432x288 with 1 Axes>"
      ]
     },
     "metadata": {
      "needs_background": "light"
     },
     "output_type": "display_data"
    }
   ],
   "source": [
    "_ = plt.plot(depth_values, tree_t_recall, label = \"Training Recall\")\n",
    "_ = plt.plot(depth_values, tree_v_recall, label = \"Validation Recall\")\n",
    "_ = plt.title(\"Depth & Recall Trend\")\n",
    "_ = plt.xlabel(\"Depth\")\n",
    "_ = plt.ylabel(\"Recall\")\n",
    "_ = plt.legend()"
   ]
  },
  {
   "cell_type": "code",
   "execution_count": 225,
   "id": "236deb83-b447-4e18-8755-fded4cc61c1c",
   "metadata": {},
   "outputs": [
    {
     "data": {
      "text/plain": [
       "(4, 0.7142857142857143)"
      ]
     },
     "execution_count": 225,
     "metadata": {},
     "output_type": "execute_result"
    }
   ],
   "source": [
    "# 3\n",
    "best_acc = max(tree_v_accuracy)\n",
    "best_rec = max(tree_v_recall)\n",
    "best_tree_acc = depth_values[tree_v_accuracy.index(best_acc)]\n",
    "best_tree_rec = depth_values[tree_v_recall.index(best_rec)]\n",
    "\n",
    "best_tree_acc, best_acc"
   ]
  },
  {
   "cell_type": "code",
   "execution_count": 226,
   "id": "03235e2d-cc26-4254-8b7d-c47239e625d4",
   "metadata": {},
   "outputs": [
    {
     "data": {
      "text/plain": [
       "(2, 0.96)"
      ]
     },
     "execution_count": 226,
     "metadata": {},
     "output_type": "execute_result"
    }
   ],
   "source": [
    "best_tree_rec, best_rec"
   ]
  },
  {
   "cell_type": "markdown",
   "id": "c9673288-7b28-43ec-8bd5-53666d2ccdfe",
   "metadata": {},
   "source": [
    "The depth value of 4 gives the best accuracy with the value of 0.714\\\n",
    "The depth value of 2 gives the best recall with the value of 0.96\n",
    "\n",
    "Decision Tree Model:\n",
    "\n",
    "Accuracy: 0.714\n",
    "Recall: 0.96\n",
    "\n",
    "Naive Model:\n",
    "\n",
    "Accuracy: 0.775\n",
    "Recall: 1.0\n",
    "\n",
    "Logistic Regression Model:\n",
    "\n",
    "Accuracy: 0.796\n",
    "Recall: 0.84\n",
    "\n",
    "Comparing with the naive model, both accuracy and recall is slightly lower in decision tree model. When compared to the logistic regression model, both accuracy and recall are also slightly lower in decision tree model"
   ]
  },
  {
   "cell_type": "markdown",
   "id": "a6901f86-d92b-4010-bb0c-be589e15034b",
   "metadata": {},
   "source": [
    "Q4\n",
    "\n",
    "Since the training accuracy and recall lines are consistently higher than the validation lines for all values of max depth in accuracy plot and higher than the validation lines for most values of max depth in recall plot, it indicates that the model is overfitting the training data. \n",
    "\n",
    "In this case, higher values of max depth may lead to overfitting, and underfitting seems not happen in the decision tree model. A higher max depth allows the decision tree to create more complex and detailed splits, resulting in a model that can perfectly fit the training data but may struggle to generalize to new data.\n",
    "\n",
    "To mitigate overfitting, we can consider selecting a lower value of max depth, which would result in a simpler decision tree with fewer levels and fewer splits. This can help reduce the model's complexity and improve its ability to generalize to unseen data."
   ]
  },
  {
   "cell_type": "markdown",
   "id": "e6f95bbd-5cfc-4261-9dec-022dbab23083",
   "metadata": {},
   "source": [
    "Q5\n",
    "\n",
    "Decision Tree Model: Accuracy: 0.714 \n",
    "\n",
    "Naive Model: Accuracy: 0.775 \n",
    "\n",
    "Logistic Regression Model: Accuracy: 0.796\n",
    "\n",
    "KNN Model: Accuracy: 0.694"
   ]
  },
  {
   "cell_type": "code",
   "execution_count": 227,
   "id": "266e12f8-7099-4e9a-a811-ca0f1dc57987",
   "metadata": {},
   "outputs": [
    {
     "data": {
      "text/plain": [
       "0.040999999999999925"
      ]
     },
     "execution_count": 227,
     "metadata": {},
     "output_type": "execute_result"
    }
   ],
   "source": [
    "0.816 - 0.775"
   ]
  },
  {
   "cell_type": "markdown",
   "id": "fb676c32-0cea-437f-b083-aa9b6e813276",
   "metadata": {},
   "source": [
    "The accuaracy result of each model varies between each run, but after running multiple times, I found logistic regression model generate the highest validation accuracy in most cases. And the accuracy of logistic regression is 0.041 over that of the naive model."
   ]
  },
  {
   "cell_type": "markdown",
   "id": "bee902bc-87bb-45e9-b01e-8806ecbaa7ff",
   "metadata": {},
   "source": [
    "## 4 How confident are we in the results"
   ]
  },
  {
   "cell_type": "code",
   "execution_count": 228,
   "id": "ef8ea517-c354-43fc-b63c-fd69fd028f22",
   "metadata": {},
   "outputs": [
    {
     "data": {
      "text/plain": [
       "array([0.55682516, 0.96391249, 0.17975505, 0.28031917, 0.43354715,\n",
       "       0.32473239, 0.28993389, 0.30152201, 0.90605923, 0.06258177])"
      ]
     },
     "execution_count": 228,
     "metadata": {},
     "output_type": "execute_result"
    }
   ],
   "source": [
    "# 1\n",
    "phat = m_log.predict_proba(Xv)[:, 1]\n",
    "phat[:10]"
   ]
  },
  {
   "cell_type": "code",
   "execution_count": 229,
   "id": "472ae719-9077-412e-8580-fc4c992efba6",
   "metadata": {},
   "outputs": [
    {
     "data": {
      "image/png": "[encoded data removed]",
      "text/plain": [
       "<Figure size 432x288 with 1 Axes>"
      ]
     },
     "metadata": {
      "needs_background": "light"
     },
     "output_type": "display_data"
    }
   ],
   "source": [
    "# 2\n",
    "_ = plt.hist(phat, bins=10, edgecolor='k')\n",
    "_ = plt.title(\"Heart Attacks Predicted Probability Histogram\")\n",
    "_ = plt.xlabel(\"Heart Attacks Predicted Probability\")\n",
    "_ = plt.ylabel(\"Frequency\")"
   ]
  },
  {
   "cell_type": "markdown",
   "id": "fc2af8d3-b555-4a7c-ae9d-f00bad2a60b6",
   "metadata": {},
   "source": [
    "From the histogram above, the predicted probabilities are more extreme, mostly located either 0 or 1."
   ]
  },
  {
   "cell_type": "markdown",
   "id": "403ffa59-88da-41cf-8ad3-57f0a28e75d6",
   "metadata": {},
   "source": [
    "Q3\n",
    "\n",
    "In logistic regression, the predicted probabilities represent the likelihood of an instance belonging to the positive class (heart attack) based on the given input features. The predicted probability ranges from 0 to 1, where 0 indicates a low likelihood and 1 indicates a high likelihood.\n",
    "\n",
    "When the predicted probability is close to 0 or 1, it suggests that the model is confident in its prediction. These extreme probabilities indicate a clear separation between the positive and negative classes. On the other hand, when the predicted probability is around 0.5, it implies that the model is uncertain about the instance's class membership. A probability of 0.5 means that the model is assigning an equal likelihood to both the positive and negative classes. \n",
    "\n",
    "In terms of accuracy, when the predicted probabilities are close to 0 or 1, the model's predictions are likely to be more accurate because they align with the true labels. However, when the probabilities are clustered around 0.5, the accuracy may be lower since the model is less certain about the correct class."
   ]
  },
  {
   "cell_type": "markdown",
   "id": "f2fc9f7f-94cd-4c3c-bfa2-11bad2a4c6a1",
   "metadata": {},
   "source": [
    "## 5 Final model goodness"
   ]
  },
  {
   "cell_type": "code",
   "execution_count": 230,
   "id": "fd5fc2d6-f240-4591-b9fc-a238aa87b26e",
   "metadata": {},
   "outputs": [
    {
     "data": {
      "text/plain": [
       "LogisticRegression(max_iter=1000)"
      ]
     },
     "execution_count": 230,
     "metadata": {},
     "output_type": "execute_result"
    }
   ],
   "source": [
    "# 1\n",
    "m_log.fit(Xw, yw)"
   ]
  },
  {
   "cell_type": "code",
   "execution_count": 231,
   "id": "d8c1e8e0-41c3-4156-afe9-3ad25bd334d7",
   "metadata": {},
   "outputs": [
    {
     "data": {
      "text/plain": [
       "0.819672131147541"
      ]
     },
     "execution_count": 231,
     "metadata": {},
     "output_type": "execute_result"
    }
   ],
   "source": [
    "# 2\n",
    "heart_test = pd.read_csv(\"test_data.csv\")\n",
    "\n",
    "y_final = heart_test.output\n",
    "X_final = heart_test.drop(\"output\", axis=1)\n",
    "\n",
    "yhat_final = m_log.predict(X_final)\n",
    "\n",
    "final_acc = accuracy_score(y_final, yhat_final)\n",
    "final_acc"
   ]
  },
  {
   "cell_type": "markdown",
   "id": "a855bd33-2f76-4d1c-b0e7-e6a3c1a9bcd6",
   "metadata": {},
   "source": [
    "Accuracy is 0.869 is my final model performance measure"
   ]
  },
  {
   "cell_type": "markdown",
   "id": "8d20bc57-402f-4311-9df4-f4105ec4aa30",
   "metadata": {},
   "source": [
    "I spend 11 hours on this ps"
   ]
  },
  {
   "cell_type": "code",
   "execution_count": null,
   "id": "4aed96c9-7ad2-416a-a90a-f9710d6998c9",
   "metadata": {},
   "outputs": [],
   "source": []
  }
 ],
 "metadata": {
  "kernelspec": {
   "display_name": "Python 3 (ipykernel)",
   "language": "python",
   "name": "python3"
  },
  "language_info": {
   "codemirror_mode": {
    "name": "ipython",
    "version": 3
   },
   "file_extension": ".py",
   "mimetype": "text/x-python",
   "name": "python",
   "nbconvert_exporter": "python",
   "pygments_lexer": "ipython3",
   "version": "3.9.12"
  }
 },
 "nbformat": 4,
 "nbformat_minor": 5
}
